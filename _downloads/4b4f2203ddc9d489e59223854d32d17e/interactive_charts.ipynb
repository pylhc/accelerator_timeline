{
  "cells": [
    {
      "cell_type": "markdown",
      "metadata": {},
      "source": [
        "\n# Interactive Accelerator Timeline\n\nThis script allows you to interactively explore the accelerator data,\neither by running the script and viewing the plots in a browser,\nby running the script in interactive-mode e.g. in vscode \nor by checking the from this script generated gallery.\n\nTo run the script, make sure your environment has the requirements \nof `requirements_interactive_charts.txt` installed.\n"
      ]
    },
    {
      "cell_type": "markdown",
      "metadata": {},
      "source": [
        "## Preparations \n\nImport modules and define plotting function.\nThis code is omitted in the interactive gallery, so that you can immediately enjoy the interactive plots below.\nCheck [interactive.py](https://github.com/pylhc/accelerator_timeline/blob/master/interactive.py) \nfor the full example code.\n\n\n"
      ]
    },
    {
      "cell_type": "code",
      "execution_count": null,
      "metadata": {
        "collapsed": false
      },
      "outputs": [],
      "source": [
        "# No code to see here in the interactive gallery or the generated jupyter notebook."
      ]
    },
    {
      "cell_type": "markdown",
      "metadata": {},
      "source": [
        "## Energy Timeline\n\n\n"
      ]
    },
    {
      "cell_type": "code",
      "execution_count": null,
      "metadata": {
        "collapsed": false
      },
      "outputs": [],
      "source": [
        "fig_com = plot(data, EnergyConfiguration)"
      ]
    },
    {
      "cell_type": "markdown",
      "metadata": {},
      "source": [
        "## Luminosity timeline\n\n\n"
      ]
    },
    {
      "cell_type": "code",
      "execution_count": null,
      "metadata": {
        "collapsed": false
      },
      "outputs": [],
      "source": [
        "fig_lumi = plot(data, LuminosityConfiguration)"
      ]
    },
    {
      "cell_type": "markdown",
      "metadata": {},
      "source": [
        "## Luminosity vs. Energy \n\n\n"
      ]
    },
    {
      "cell_type": "code",
      "execution_count": null,
      "metadata": {
        "collapsed": false
      },
      "outputs": [],
      "source": [
        "fig_lumi_energy = plot(data, LuminosityOverEnergyConfiguration)"
      ]
    },
    {
      "cell_type": "markdown",
      "metadata": {},
      "source": [
        "## Save plots\n\nSave the plots as PDF and PNG.\n\n"
      ]
    },
    {
      "cell_type": "code",
      "execution_count": null,
      "metadata": {
        "collapsed": false
      },
      "outputs": [],
      "source": [
        "output_dir = Path(\"images\")\n\nplotly.io.write_image(fig_com, output_dir / \"energy-plotly.pdf\", format=\"pdf\")\nplotly.io.write_image(fig_com, output_dir / \"energy-plotly.png\", format=\"png\")\nplotly.io.write_image(fig_lumi, output_dir / \"luminosity-plotly.pdf\", format=\"pdf\")\nplotly.io.write_image(fig_lumi, output_dir / \"luminosity-plotly.png\", format=\"png\")\nplotly.io.write_image(fig_lumi_energy, output_dir / \"luminosity-vs-energy-plotly.pdf\", format=\"pdf\")\nplotly.io.write_image(fig_lumi_energy, output_dir / \"luminosity-vs-energy-plotly.png\", format=\"png\")"
      ]
    }
  ],
  "metadata": {
    "kernelspec": {
      "display_name": "Python 3",
      "language": "python",
      "name": "python3"
    },
    "language_info": {
      "codemirror_mode": {
        "name": "ipython",
        "version": 3
      },
      "file_extension": ".py",
      "mimetype": "text/x-python",
      "name": "python",
      "nbconvert_exporter": "python",
      "pygments_lexer": "ipython3",
      "version": "3.9.17"
    }
  },
  "nbformat": 4,
  "nbformat_minor": 0
}