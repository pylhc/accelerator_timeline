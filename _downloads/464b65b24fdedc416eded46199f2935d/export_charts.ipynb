{
  "cells": [
    {
      "cell_type": "markdown",
      "metadata": {},
      "source": [
        "# Export Accelerator Timeline\n\nThis is an example script to generate static plots of the accelerator data via \nmatplotlib.\nTo run the script, make sure your environment has the requirements \nof `requirements_export_charts.txt` installed.\n"
      ]
    },
    {
      "cell_type": "code",
      "execution_count": null,
      "metadata": {
        "collapsed": false
      },
      "outputs": [],
      "source": [
        "import os\nfrom pathlib import Path\n\nimport matplotlib as mpl\nimport matplotlib.ticker as plticker\nimport numpy as np\nimport pandas as pd\nfrom matplotlib import pyplot as plt\nfrom matplotlib.figure import Figure\n\nfrom utilities.csv_reader import Column, import_collider_data\nfrom utilities.plot_helper import (PARTICLE_TYPES, PLOTLY_MPL_SYMBOL_MAP, EnergyConfiguration,\n                                   LuminosityConfiguration, LuminosityOverEnergyConfiguration,\n                                   PlotConfiguration, assign_textposition)\nfrom utilities.sphinx_helper import get_gallery_dir, is_sphinx_build\n\n\ndef plot(data: pd.DataFrame, configuration: PlotConfiguration) -> Figure:\n    \"\"\"Generate interactive plots with matplotlib, based on the given configuration, \n    which defines the columns to use, labels and the text positions.\n\n    Args:\n        data (pd.DataFrame): DataFrame containing the (modified) accelerator timeline data\n        configuration (PlotConfiguration): See :class:`utilities.plot_helper.PlotConfiguration`\n\n    Returns:\n        Figure: Matplotlib figure \n    \"\"\"\n    fig, ax = plt.subplots()\n            \n    pad = mpl.rcParams[\"lines.markersize\"]/3\n    vmap = {\"top\": pad, \"middle\": 0, \"bottom\": -pad}\n    hmap = {\"left\": -pad*2, \"center\": 0, \"right\": pad*2}\n    alignment_map = {\n        \"left\": \"right\", \"center\": \"center\", \"right\": \"left\", \n        \"top\": \"bottom\", \"middle\": \"center\", \"bottom\": \"top\"\n    }\n\n    for particle_type in PARTICLE_TYPES:\n        mask = data[Column.TYPE] == particle_type.shorthand\n        marker = PLOTLY_MPL_SYMBOL_MAP[particle_type.symbol]\n\n        for has_been_built in (True, False):\n            if has_been_built:\n                builtmask, fillstyle, legend_prefix = data[Column.BUILT], \"full\", \"\"\n            else:\n                builtmask, fillstyle, legend_prefix = ~data[Column.BUILT], \"none\", \"_\"\n\n            ax.plot(\n                data.loc[mask & builtmask, configuration.xcolumn], \n                data.loc[mask & builtmask, configuration.ycolumn],\n                linestyle=\"none\",\n                marker=marker, fillstyle=fillstyle,\n                color=particle_type.color,\n                label=f\"{legend_prefix}{particle_type.latex}\",\n            )\n\n        for x, y, text, textposition in zip(data.loc[mask, configuration.xcolumn], \n                                            data.loc[mask, configuration.ycolumn], \n                                            data.loc[mask, Column.NAME], \n                                            data.loc[mask, configuration.textposition]):\n            v, h = textposition.split(\" \")\n            ax.annotate(text, xy=(x, y),  \n                xytext=(hmap[h], vmap[v]), \n                textcoords=\"offset pixels\", \n                ha=alignment_map[h], va=alignment_map[v]\n            )\n\n    ax.set_xlabel(configuration.xlabel)\n    ax.set_ylabel(configuration.ylabel)\n    for axis in (\"x\", \"y\"):\n        if axis in configuration.logscale:\n            getattr(ax, f\"set_{axis}scale\")(\"log\")\n            lim = getattr(ax, f\"get_{axis}lim\")()\n            numticks = int(np.log10(lim[1]/lim[0])) + 1\n            getattr(ax, f\"{axis}axis\").set_major_locator(plticker.LogLocator(base=10.0, numticks=numticks))\n            getattr(ax, f\"{axis}axis\").set_minor_locator(plticker.LogLocator(base=10.0, subs=np.arange(2, 10)))\n            getattr(ax, f\"{axis}axis\").set_minor_formatter(plticker.NullFormatter())\n        else:\n            getattr(ax, f\"set_{axis}scale\")(\"linear\")\n            getattr(ax, f\"{axis}axis\").set_major_locator(plticker.MultipleLocator(base=10.0))\n            getattr(ax, f\"{axis}axis\").set_minor_locator(plticker.MultipleLocator(base=1.0))\n\n\n    ax.legend(loc='upper left', bbox_to_anchor=(1, 1), borderaxespad=0., title='Particles', ncol=1)\n    return fig \n\n\nif __name__ == \"__main__\":\n    if is_sphinx_build():\n        MAIN_DIR = Path()\n        output_dir = get_gallery_dir()\n    else:\n        MAIN_DIR = Path(__file__).parent\n        output_dir = MAIN_DIR / \"images\"\n\n    plt.style.use(MAIN_DIR / \"utilities\" / \"chart.mplstyle\")\n\n    data = import_collider_data()\n    data = assign_textposition(data)\n    \n    fig_com = plot(data, EnergyConfiguration)\n    fig_com.savefig(output_dir / \"energy.pdf\")\n    fig_com.savefig(output_dir / \"energy.png\")\n\n    fig_lumi = plot(data, LuminosityConfiguration)\n    fig_lumi.savefig(output_dir / \"luminosity.pdf\")\n    fig_lumi.savefig(output_dir / \"luminosity.png\")\n\n    fig_lumi_vs_com = plot(data, LuminosityOverEnergyConfiguration)\n    fig_lumi_vs_com.savefig(output_dir / \"luminosity-vs-energy.pdf\")\n    fig_lumi_vs_com.savefig(output_dir / \"luminosity-vs-energy.png\")\n    \n    # plt.show()"
      ]
    }
  ],
  "metadata": {
    "kernelspec": {
      "display_name": "Python 3",
      "language": "python",
      "name": "python3"
    },
    "language_info": {
      "codemirror_mode": {
        "name": "ipython",
        "version": 3
      },
      "file_extension": ".py",
      "mimetype": "text/x-python",
      "name": "python",
      "nbconvert_exporter": "python",
      "pygments_lexer": "ipython3",
      "version": "3.9.17"
    }
  },
  "nbformat": 4,
  "nbformat_minor": 0
}